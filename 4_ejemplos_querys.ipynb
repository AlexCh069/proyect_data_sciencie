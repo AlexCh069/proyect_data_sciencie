{
 "cells": [
  {
   "cell_type": "markdown",
   "metadata": {},
   "source": [
    "BORRAR TODAS LAS TABLAS"
   ]
  },
  {
   "cell_type": "code",
   "execution_count": null,
   "metadata": {
    "vscode": {
     "languageId": "plaintext"
    }
   },
   "outputs": [],
   "source": [
    "DO $$ \n",
    "DECLARE\n",
    "    tabla RECORD;\n",
    "BEGIN\n",
    "    FOR tabla IN \n",
    "        (SELECT tablename FROM pg_tables WHERE schemaname = 'public')\n",
    "    LOOP\n",
    "        EXECUTE FORMAT('DROP TABLE IF EXISTS %I CASCADE;', tabla.tablename);\n",
    "    END LOOP;\n",
    "END $$;"
   ]
  },
  {
   "cell_type": "markdown",
   "metadata": {},
   "source": [
    "Ejemplo 1"
   ]
  },
  {
   "cell_type": "code",
   "execution_count": null,
   "metadata": {
    "vscode": {
     "languageId": "plaintext"
    }
   },
   "outputs": [],
   "source": [
    "SELECT dt.id, et.estratosocio, dt.ccdd, lt.lengua_indg\n",
    "FROM public.data_total as dt\n",
    "JOIN lengua_indigena  as lt\n",
    "\tON dt.id = lt.id_persona\n",
    "JOIN estrato_social as et\n",
    "\tON dt.estratosocio = et.id_estratosocio\n",
    "WHERE et.estratosocio = 'Rural';"
   ]
  }
 ],
 "metadata": {
  "language_info": {
   "name": "python"
  }
 },
 "nbformat": 4,
 "nbformat_minor": 2
}
